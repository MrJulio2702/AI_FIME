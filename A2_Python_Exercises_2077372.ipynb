{
  "nbformat": 4,
  "nbformat_minor": 0,
  "metadata": {
    "colab": {
      "provenance": [],
      "authorship_tag": "ABX9TyMeMvGYdu2I1zo9qqm+GLpA",
      "include_colab_link": true
    },
    "kernelspec": {
      "name": "python3",
      "display_name": "Python 3"
    },
    "language_info": {
      "name": "python"
    }
  },
  "cells": [
    {
      "cell_type": "markdown",
      "metadata": {
        "id": "view-in-github",
        "colab_type": "text"
      },
      "source": [
        "<a href=\"https://colab.research.google.com/github/MrJulio2702/AI_Julio/blob/main/A2_Python_Exercises_2077372.ipynb\" target=\"_parent\"><img src=\"https://colab.research.google.com/assets/colab-badge.svg\" alt=\"Open In Colab\"/></a>"
      ]
    },
    {
      "cell_type": "markdown",
      "source": [
        "Text Analysis Tool"
      ],
      "metadata": {
        "id": "1SZooAe1n3Su"
      }
    },
    {
      "cell_type": "code",
      "source": [
        "from google.colab import drive# Mount Google Drive\n",
        "drive.mount('/content/drive')"
      ],
      "metadata": {
        "colab": {
          "base_uri": "https://localhost:8080/"
        },
        "id": "GecsUf76pjAH",
        "outputId": "09cac977-7449-425e-bfff-60710f0d8751"
      },
      "execution_count": 7,
      "outputs": [
        {
          "output_type": "stream",
          "name": "stdout",
          "text": [
            "Drive already mounted at /content/drive; to attempt to forcibly remount, call drive.mount(\"/content/drive\", force_remount=True).\n"
          ]
        }
      ]
    },
    {
      "cell_type": "code",
      "source": [
        "# Read the content of the text file\n",
        "with open('/content/drive/MyDrive/Colab Notebooks/Hi this is a text file to make the .txt', 'r') as file:\n",
        "    text = file.read()\n",
        "\n",
        "# Perform various analyses on the text\n",
        "# Count the number of words\n",
        "words = text.split()\n",
        "word_count = len(words)\n",
        "\n",
        "# Count the number of sentences\n",
        "sentences = text.split('. ')\n",
        "sentence_count = len(sentences)\n",
        "\n",
        "# Count the number of paragraphs\n",
        "paragraphs = text.split('\\n\\n')\n",
        "paragraph_count = len(paragraphs)\n",
        "\n",
        "# Calculate the average word length\n",
        "total_word_length = sum(len(word) for word in words)\n",
        "average_word_length = total_word_length / word_count\n",
        "\n",
        "# Identify the most common words and their frequencies\n",
        "word_frequencies = {}\n",
        "for word in words:\n",
        "    if word in word_frequencies:\n",
        "        word_frequencies[word] += 1\n",
        "    else:\n",
        "        word_frequencies[word] = 1\n",
        "\n",
        "most_common_words = sorted(word_frequencies.items(), key=lambda x: x[1], reverse=True)\n",
        "\n",
        "print('Number of words:', word_count)\n",
        "print('Number of sentences:', sentence_count)\n",
        "print('Number of paragraphs:', paragraph_count)\n",
        "print('Average word length:', average_word_length)\n",
        "print('Most common words:', most_common_words[:5])  # Change the number to display more or fewer words"
      ],
      "metadata": {
        "colab": {
          "base_uri": "https://localhost:8080/"
        },
        "id": "PwxGgr6Ln1Gg",
        "outputId": "a5aa0118-b934-4704-fc92-56d67602bd47"
      },
      "execution_count": 13,
      "outputs": [
        {
          "output_type": "stream",
          "name": "stdout",
          "text": [
            "Number of words: 32\n",
            "Number of sentences: 1\n",
            "Number of paragraphs: 1\n",
            "Average word length: 3.40625\n",
            "Most common words: [('to', 3), ('is', 2), ('the', 2), ('so', 2), ('Hi', 1)]\n"
          ]
        }
      ]
    },
    {
      "cell_type": "markdown",
      "source": [
        "HangMan"
      ],
      "metadata": {
        "id": "82KSoG6Rn1i5"
      }
    },
    {
      "cell_type": "code",
      "execution_count": 15,
      "metadata": {
        "colab": {
          "base_uri": "https://localhost:8080/"
        },
        "id": "cyl1JA-7P-Fz",
        "outputId": "6bd0845a-ea55-47a0-bfb2-53794a2f730f"
      },
      "outputs": [
        {
          "output_type": "stream",
          "name": "stdout",
          "text": [
            "Welcome to Hangman!\n",
            "The word contains 4 letters.\n",
            "\n",
            "You have 6 attempts left.\n",
            "Enter a letter: n\n",
            "Incorrect guess!\n",
            "____\n",
            "\n",
            "You have 5 attempts left.\n",
            "Enter a letter: x\n",
            "Incorrect guess!\n",
            "____\n",
            "\n",
            "You have 4 attempts left.\n",
            "Enter a letter: s\n",
            "Correct guess!\n",
            "s___\n",
            "\n",
            "You have 4 attempts left.\n",
            "Enter a letter: e\n",
            "Correct guess!\n",
            "se__\n",
            "\n",
            "You have 4 attempts left.\n",
            "Enter a letter: g\n",
            "Correct guess!\n",
            "seg_\n",
            "\n",
            "You have 4 attempts left.\n",
            "Enter a letter: a\n",
            "Correct guess!\n",
            "sega\n",
            "Congratulations, you guessed the word!\n"
          ]
        }
      ],
      "source": [
        "import random\n",
        "\n",
        "def hangman():\n",
        "    words = ['playstation', 'xbox', 'nintendo', 'atari', 'computer', 'sega', 'gamecube', 'psp']\n",
        "    word = random.choice(words)\n",
        "    guessed_letters = []\n",
        "    attempts = 6\n",
        "\n",
        "    print('Welcome to Hangman!')\n",
        "    print('The word contains', len(word), 'letters.')\n",
        "\n",
        "    while attempts > 0:\n",
        "        print('\\nYou have', attempts, 'attempts left.')\n",
        "        guess = input('Enter a letter: ').lower()\n",
        "\n",
        "        if len(guess) != 1:\n",
        "            print('Please enter only one letter at a time.')\n",
        "            continue\n",
        "\n",
        "        if guess in guessed_letters:\n",
        "            print('You already guessed that letter.')\n",
        "            continue\n",
        "\n",
        "        if guess not in word:\n",
        "            attempts -= 1\n",
        "            print('Incorrect guess!')\n",
        "        else:\n",
        "            print('Correct guess!')\n",
        "\n",
        "        guessed_letters.append(guess)\n",
        "\n",
        "        word_progress = ''.join([letter if letter in guessed_letters else '_' for letter in word])\n",
        "        print(word_progress)\n",
        "\n",
        "        if '_' not in word_progress:\n",
        "            print('Congratulations, you guessed the word!')\n",
        "            break\n",
        "\n",
        "    if attempts == 0:\n",
        "        print('You ran out of attempts. The word was', word)\n",
        "\n",
        "hangman()"
      ]
    },
    {
      "cell_type": "markdown",
      "source": [
        "Number Guessing game"
      ],
      "metadata": {
        "id": "ErN3wl0qqsnZ"
      }
    },
    {
      "cell_type": "code",
      "source": [
        "import random\n",
        "\n",
        "def guess_number():\n",
        "    target_number = random.randint(1, 100)\n",
        "    guessed_number = None\n",
        "\n",
        "    while guessed_number != target_number:\n",
        "        guessed_number = int(input(\"Guess a number between 1 and 100: \"))\n",
        "\n",
        "        if guessed_number < target_number:\n",
        "            print(\"Too low! Try again.\")\n",
        "        elif guessed_number > target_number:\n",
        "            print(\"Too high! Try again.\")\n",
        "\n",
        "    print(\"Congratulations! You guessed the correct number.\")\n",
        "\n",
        "guess_number()"
      ],
      "metadata": {
        "colab": {
          "base_uri": "https://localhost:8080/"
        },
        "id": "vQKzvbB5qvKx",
        "outputId": "0e9dd54b-a8e1-4574-b639-22b90a412d5a"
      },
      "execution_count": 16,
      "outputs": [
        {
          "output_type": "stream",
          "name": "stdout",
          "text": [
            "Guess a number between 1 and 100: 42\n",
            "Too high! Try again.\n",
            "Guess a number between 1 and 100: 20\n",
            "Too low! Try again.\n",
            "Guess a number between 1 and 100: 30\n",
            "Too low! Try again.\n",
            "Guess a number between 1 and 100: 37\n",
            "Too high! Try again.\n",
            "Guess a number between 1 and 100: 35\n",
            "Too high! Try again.\n",
            "Guess a number between 1 and 100: 33\n",
            "Congratulations! You guessed the correct number.\n"
          ]
        }
      ]
    }
  ]
}